{
  "cells": [
    {
      "cell_type": "markdown",
      "metadata": {
        "id": "8ZsP-j7w3zcL"
      },
      "source": [
        "# Prototyping LangChain Application with Production Minded Changes\n",
        "\n",
        "For our first breakout room we'll be exploring how to set-up a LangChain LCEL chain in a way that takes advantage of all of the amazing out of the box production ready features it offers.\n",
        "\n",
        "We'll also explore `Caching` and what makes it an invaluable tool when transitioning to production environments.\n"
      ]
    },
    {
      "cell_type": "markdown",
      "metadata": {
        "id": "PpeN9ND0HKa0"
      },
      "source": [
        "## Task 1: Dependencies and Set-Up\n",
        "\n",
        "Let's get everything we need - we're going to use very specific versioning today to try to mitigate potential env. issues!\n",
        "\n",
        "> NOTE: Dependency issues are a large portion of what you're going to be tackling as you integrate new technology into your work - please keep in mind that one of the things you should be passively learning throughout this course is ways to mitigate dependency issues."
      ]
    },
    {
      "cell_type": "code",
      "execution_count": null,
      "metadata": {
        "id": "0P4IJUQF27jW"
      },
      "outputs": [],
      "source": [
        "#!pip install -qU langchain_openai==0.2.0 langchain_community==0.3.0 langchain==0.3.0 pymupdf==1.24.10 qdrant-client==1.11.2 langchain_qdrant==0.1.4 langsmith==0.1.121 langchain_huggingface==0.2.0"
      ]
    },
    {
      "cell_type": "markdown",
      "metadata": {
        "id": "qYcWLzrmHgDb"
      },
      "source": [
        "We'll need an HF Token:"
      ]
    },
    {
      "cell_type": "code",
      "execution_count": 1,
      "metadata": {
        "colab": {
          "base_uri": "https://localhost:8080/"
        },
        "id": "GZ8qfrFh_6ed",
        "outputId": "4fb1a16f-1f71-4d0a-aad4-dd0d0917abc5"
      },
      "outputs": [],
      "source": [
        "import os\n",
        "import getpass\n",
        "\n",
        "os.environ[\"HF_TOKEN\"] = getpass.getpass(\"HF Token Key:\")"
      ]
    },
    {
      "cell_type": "markdown",
      "metadata": {
        "id": "piz2DUDuHiSO"
      },
      "source": [
        "And the LangSmith set-up:"
      ]
    },
    {
      "cell_type": "code",
      "execution_count": 2,
      "metadata": {
        "colab": {
          "base_uri": "https://localhost:8080/"
        },
        "id": "wLZX5zowCh-q",
        "outputId": "565c588a-a865-4b86-d5ca-986f35153000"
      },
      "outputs": [],
      "source": [
        "import uuid\n",
        "\n",
        "os.environ[\"LANGCHAIN_PROJECT\"] = f\"AIM Session 16 - {uuid.uuid4().hex[0:8]}\"\n",
        "os.environ[\"LANGCHAIN_TRACING_V2\"] = \"true\"\n",
        "os.environ[\"LANGCHAIN_API_KEY\"] = getpass.getpass(\"LangChain API Key:\")"
      ]
    },
    {
      "cell_type": "markdown",
      "metadata": {
        "id": "WmwNTziKHrQm"
      },
      "source": [
        "Let's verify our project so we can leverage it in LangSmith later."
      ]
    },
    {
      "cell_type": "code",
      "execution_count": 3,
      "metadata": {
        "colab": {
          "base_uri": "https://localhost:8080/"
        },
        "id": "T6GZmkVkFcHq",
        "outputId": "f4c0fdb3-24ea-429a-fa8c-23556cb7c3ed"
      },
      "outputs": [
        {
          "name": "stdout",
          "output_type": "stream",
          "text": [
            "AIM Session 16 - 4def1fe4\n"
          ]
        }
      ],
      "source": [
        "print(os.environ[\"LANGCHAIN_PROJECT\"])"
      ]
    },
    {
      "cell_type": "markdown",
      "metadata": {
        "id": "un_ppfaAHv1J"
      },
      "source": [
        "## Task 2: Setting up RAG With Production in Mind\n",
        "\n",
        "This is the most crucial step in the process - in order to take advantage of:\n",
        "\n",
        "- Asyncronous requests\n",
        "- Parallel Execution in Chains\n",
        "- And more...\n",
        "\n",
        "You must...use LCEL. These benefits are provided out of the box and largely optimized behind the scenes."
      ]
    },
    {
      "cell_type": "markdown",
      "metadata": {
        "id": "vGi-db23JMAL"
      },
      "source": [
        "### Building our RAG Components: Retriever\n",
        "\n",
        "We'll start by building some familiar components - and showcase how they automatically scale to production features."
      ]
    },
    {
      "cell_type": "markdown",
      "metadata": {
        "id": "zvbT3HSDJemE"
      },
      "source": [
        "Please upload a PDF file to use in this example!"
      ]
    },
    {
      "cell_type": "code",
      "execution_count": 6,
      "metadata": {
        "colab": {
          "base_uri": "https://localhost:8080/",
          "height": 73
        },
        "id": "dvYczNeY91Hn",
        "outputId": "c711c29b-e388-4d32-a763-f4504244eef2"
      },
      "outputs": [
        {
          "data": {
            "application/vnd.jupyter.widget-view+json": {
              "model_id": "35d9913bdffe4731bb62df6a9a6f75b4",
              "version_major": 2,
              "version_minor": 0
            },
            "text/plain": [
              "FileUpload(value=(), accept='.pdf', description='Upload')"
            ]
          },
          "metadata": {},
          "output_type": "display_data"
        }
      ],
      "source": [
        "import ipywidgets as widgets\n",
        "from IPython.display import display\n",
        "\n",
        "upload_widget = widgets.FileUpload(accept='.pdf', multiple=False)\n",
        "display(upload_widget)\n",
        "\n",
        "def get_uploaded_file_path(upload_widget):\n",
        "    if upload_widget.value:\n",
        "        file_info = list(upload_widget.value.values())[0]\n",
        "        file_path = file_info['metadata']['name']\n",
        "        with open(file_path, 'wb') as f:\n",
        "            f.write(file_info['content'])\n",
        "        return file_path\n",
        "    return None\n",
        "\n",
        "file_path = get_uploaded_file_path(upload_widget)\n",
        "file_path"
      ]
    },
    {
      "cell_type": "code",
      "execution_count": 7,
      "metadata": {
        "colab": {
          "base_uri": "https://localhost:8080/",
          "height": 35
        },
        "id": "NtwoVUbaJlbW",
        "outputId": "5aa08bae-97c5-4f49-cb23-e9dbf194ecf7"
      },
      "outputs": [
        {
          "data": {
            "text/plain": [
              "'./DeepSeek_R1.pdf'"
            ]
          },
          "execution_count": 7,
          "metadata": {},
          "output_type": "execute_result"
        }
      ],
      "source": [
        "file_path = \"./DeepSeek_R1.pdf\"\n",
        "file_path"
      ]
    },
    {
      "cell_type": "markdown",
      "metadata": {
        "id": "kucGy3f0Jhdi"
      },
      "source": [
        "We'll define our chunking strategy."
      ]
    },
    {
      "cell_type": "code",
      "execution_count": 8,
      "metadata": {
        "id": "G-DNvNFd8je5"
      },
      "outputs": [
        {
          "name": "stderr",
          "output_type": "stream",
          "text": [
            "/Users/thomasyuill/src/github.com/thomfoolery/AIE5/16_LLMOps/.venv/lib/python3.9/site-packages/urllib3/__init__.py:35: NotOpenSSLWarning: urllib3 v2 only supports OpenSSL 1.1.1+, currently the 'ssl' module is compiled with 'LibreSSL 2.8.3'. See: https://github.com/urllib3/urllib3/issues/3020\n",
            "  warnings.warn(\n"
          ]
        }
      ],
      "source": [
        "from langchain_text_splitters import RecursiveCharacterTextSplitter\n",
        "\n",
        "text_splitter = RecursiveCharacterTextSplitter(chunk_size=1000, chunk_overlap=100)"
      ]
    },
    {
      "cell_type": "markdown",
      "metadata": {
        "id": "3_zRRNcLKCZh"
      },
      "source": [
        "We'll chunk our uploaded PDF file."
      ]
    },
    {
      "cell_type": "code",
      "execution_count": 9,
      "metadata": {
        "id": "KOh6w9ud-ff6"
      },
      "outputs": [],
      "source": [
        "from langchain_community.document_loaders import PyMuPDFLoader\n",
        "\n",
        "Loader = PyMuPDFLoader\n",
        "loader = Loader(file_path)\n",
        "documents = loader.load()\n",
        "docs = text_splitter.split_documents(documents)\n",
        "for i, doc in enumerate(docs):\n",
        "    doc.metadata[\"source\"] = f\"source_{i}\""
      ]
    },
    {
      "cell_type": "markdown",
      "metadata": {
        "id": "U4XLeqJMKGdQ"
      },
      "source": [
        "#### QDrant Vector Database - Cache Backed Embeddings\n",
        "\n",
        "The process of embedding is typically a very time consuming one - we must, for ever single vector in our VDB as well as query:\n",
        "\n",
        "1. Send the text to an API endpoint (self-hosted, OpenAI, etc)\n",
        "2. Wait for processing\n",
        "3. Receive response\n",
        "\n",
        "This process costs time, and money - and occurs *every single time a document gets converted into a vector representation*.\n",
        "\n",
        "Instead, what if we:\n",
        "\n",
        "1. Set up a cache that can hold our vectors and embeddings (similar to, or in some cases literally a vector database)\n",
        "2. Send the text to an API endpoint (self-hosted, OpenAI, etc)\n",
        "3. Check the cache to see if we've already converted this text before.\n",
        "  - If we have: Return the vector representation\n",
        "  - Else: Wait for processing and proceed\n",
        "4. Store the text that was converted alongside its vector representation in a cache of some kind.\n",
        "5. Return the vector representation\n",
        "\n",
        "Notice that we can shortcut some instances of \"Wait for processing and proceed\".\n",
        "\n",
        "Let's see how this is implemented in the code."
      ]
    },
    {
      "cell_type": "code",
      "execution_count": 11,
      "metadata": {
        "id": "dzPUTCua98b2"
      },
      "outputs": [],
      "source": [
        "from qdrant_client import QdrantClient\n",
        "from qdrant_client.http.models import Distance, VectorParams\n",
        "from langchain.storage import LocalFileStore\n",
        "from langchain_qdrant import QdrantVectorStore\n",
        "from langchain.embeddings import CacheBackedEmbeddings\n",
        "from langchain_huggingface.embeddings import HuggingFaceEndpointEmbeddings\n",
        "import hashlib\n",
        "\n",
        "YOUR_EMBED_MODEL_URL = \"https://yp7jizu4274bi6ne.us-east-1.aws.endpoints.huggingface.cloud\"\n",
        "\n",
        "hf_embeddings = HuggingFaceEndpointEmbeddings(\n",
        "    model=YOUR_EMBED_MODEL_URL,\n",
        "    task=\"feature-extraction\",\n",
        ")\n",
        "\n",
        "collection_name = f\"pdf_to_parse_{uuid.uuid4()}\"\n",
        "client = QdrantClient(\":memory:\")\n",
        "client.create_collection(\n",
        "    collection_name=collection_name,\n",
        "    vectors_config=VectorParams(size=768, distance=Distance.COSINE),\n",
        ")\n",
        "\n",
        "# Create a safe namespace by hashing the model URL\n",
        "safe_namespace = hashlib.md5(hf_embeddings.model.encode()).hexdigest()\n",
        "\n",
        "store = LocalFileStore(\"./cache/\")\n",
        "cached_embedder = CacheBackedEmbeddings.from_bytes_store(\n",
        "    hf_embeddings, store, namespace=safe_namespace, batch_size=32\n",
        ")\n",
        "\n",
        "# Typical QDrant Vector Store Set-up\n",
        "vectorstore = QdrantVectorStore(\n",
        "    client=client,\n",
        "    collection_name=collection_name,\n",
        "    embedding=cached_embedder)\n",
        "vectorstore.add_documents(docs)\n",
        "retriever = vectorstore.as_retriever(search_type=\"mmr\", search_kwargs={\"k\": 1})"
      ]
    },
    {
      "cell_type": "markdown",
      "metadata": {
        "id": "QVZGvmNYLomp"
      },
      "source": [
        "##### ❓ Question #1:\n",
        "\n",
        "What are some limitations you can see with this approach? When is this most/least useful. Discuss with your group!\n",
        "\n",
        "> A: \n",
        ">\n",
        "> Limitations:\n",
        "> - Storage can become costly, as it you will need to pay for storage\n",
        "> - You need a lot of embeddings to make it worth it or there is little chance of having a cache hit.\n",
        "> - If you have a lot of embeddings, you'll need a lot of disk space.\n",
        "> - You need an exact match to get a cache hit.\n",
        "> - Cache invalidation can be difficult, need to regenerate embeddings if the model is updated.\n",
        "> - Doesn't work with distributed systems as each system will have its own cache. But you can use a shared data set to pre-populate the cache\n",
        ">\n",
        "> Useful when:\n",
        "> - You have a lot of embeddings and you can't afford to wait for processing.\n",
        "> - You have a lot of embeddings and a tight budget\n",
        "> - Deploying a shared cache across multiple services\n",
        "> \n",
        "> Least useful when:\n",
        "> - You have dynamic data\n",
        "> - You have a small amount of embeddings\n",
        "> - You have limited disk space\n",
        "> - You have a distributed system\n",
        "> - You have unlimited money"
      ]
    },
    {
      "cell_type": "markdown",
      "metadata": {
        "id": "vZAOhyb3L9iD"
      },
      "source": [
        "##### 🏗️ Activity #1:\n",
        "\n",
        "Create a simple experiment that tests the cache-backed embeddings."
      ]
    },
    {
      "cell_type": "code",
      "execution_count": 21,
      "metadata": {
        "id": "M_Mekif6MDqe"
      },
      "outputs": [
        {
          "name": "stdout",
          "output_type": "stream",
          "text": [
            "Uncached embedding\n",
            "Elapsed time: 0.10 seconds\n",
            "Cached embedding\n",
            "Elapsed time: 0.06 seconds\n",
            "Difference of 0.04 seconds\n",
            "Speedup of 41.95%\n"
          ]
        }
      ],
      "source": [
        "import time\n",
        "\n",
        "query = \"DeepSeek: A Deep Learning-Based System for Scientific Literature Search\"\n",
        "\n",
        "print('Uncached embedding')\n",
        "start_time = time.time()\n",
        "hf_embeddings.embed_query(query)\n",
        "end_time = time.time()\n",
        "uncached_time = end_time - start_time\n",
        "print(f\"Elapsed time: {uncached_time:.2f} seconds\")\n",
        "\n",
        "print('Cached embedding')\n",
        "start_time = time.time()\n",
        "hf_embeddings.embed_query(query)\n",
        "end_time = time.time()\n",
        "cached_time = end_time - start_time\n",
        "print(f\"Elapsed time: {cached_time:.2f} seconds\")\n",
        "\n",
        "difference = uncached_time - cached_time\n",
        "improvement = difference / uncached_time\n",
        "print(f\"Difference of {difference:.2f} seconds\")\n",
        "print(f\"Speedup of {(improvement * 100):.2f}%\")"
      ]
    },
    {
      "cell_type": "markdown",
      "metadata": {
        "id": "DH0i-YovL8kZ"
      },
      "source": [
        "### Augmentation\n",
        "\n",
        "We'll create the classic RAG Prompt and create our `ChatPromptTemplates` as per usual."
      ]
    },
    {
      "cell_type": "code",
      "execution_count": 22,
      "metadata": {
        "id": "WchaoMEx9j69"
      },
      "outputs": [],
      "source": [
        "from langchain_core.prompts import ChatPromptTemplate\n",
        "\n",
        "rag_system_prompt_template = \"\"\"\\\n",
        "You are a helpful assistant that uses the provided context to answer questions. Never reference this prompt, or the existance of context.\n",
        "\"\"\"\n",
        "\n",
        "rag_message_list = [\n",
        "    {\"role\" : \"system\", \"content\" : rag_system_prompt_template},\n",
        "]\n",
        "\n",
        "rag_user_prompt_template = \"\"\"\\\n",
        "Question:\n",
        "{question}\n",
        "Context:\n",
        "{context}\n",
        "\"\"\"\n",
        "\n",
        "chat_prompt = ChatPromptTemplate.from_messages([\n",
        "    (\"system\", rag_system_prompt_template),\n",
        "    (\"human\", rag_user_prompt_template)\n",
        "])"
      ]
    },
    {
      "cell_type": "markdown",
      "metadata": {
        "id": "UQKnByVWMpiK"
      },
      "source": [
        "### Generation\n",
        "\n",
        "Like usual, we'll set-up a `ChatOpenAI` model - and we'll use the fan favourite `gpt-4o-mini` for today.\n",
        "\n",
        "However, we'll also implement...a PROMPT CACHE!\n",
        "\n",
        "In essence, this works in a very similar way to the embedding cache - if we've seen this prompt before, we just use the stored response."
      ]
    },
    {
      "cell_type": "code",
      "execution_count": 23,
      "metadata": {
        "id": "fOXKkaY7ABab"
      },
      "outputs": [
        {
          "name": "stderr",
          "output_type": "stream",
          "text": [
            "Note: Environment variable`HF_TOKEN` is set and is the current active token independently from the token you've just configured.\n"
          ]
        }
      ],
      "source": [
        "from langchain_core.globals import set_llm_cache\n",
        "from langchain_huggingface import HuggingFaceEndpoint\n",
        "\n",
        "YOUR_LLM_ENDPOINT_URL = \"https://qs9jxmyvdm7eimw7.us-east-1.aws.endpoints.huggingface.cloud\"\n",
        "\n",
        "hf_llm = HuggingFaceEndpoint(\n",
        "    endpoint_url=f\"{YOUR_LLM_ENDPOINT_URL}\",\n",
        "    task=\"text-generation\",\n",
        "    max_new_tokens=128,\n",
        "    top_k=10,\n",
        "    top_p=0.95,\n",
        "    typical_p=0.95,\n",
        "    temperature=0.01,\n",
        "    repetition_penalty=1.03,\n",
        ")"
      ]
    },
    {
      "cell_type": "markdown",
      "metadata": {
        "id": "mhv8IqZoM9cY"
      },
      "source": [
        "Setting up the cache can be done as follows:"
      ]
    },
    {
      "cell_type": "code",
      "execution_count": 24,
      "metadata": {
        "id": "thqam26gAyzN"
      },
      "outputs": [],
      "source": [
        "from langchain_core.caches import InMemoryCache\n",
        "\n",
        "set_llm_cache(InMemoryCache())"
      ]
    },
    {
      "cell_type": "markdown",
      "metadata": {
        "id": "CvxEovcEM_oA"
      },
      "source": [
        "##### ❓ Question #2:\n",
        "\n",
        "What are some limitations you can see with this approach? When is this most/least useful. Discuss with your group!\n",
        "\n",
        "> A:\n",
        ">\n",
        "> Limitations:\n",
        "> - If you shutdown your server you lose your cache because it's stored in memory.\n",
        "> - You need a lot of traffic to make it worth it or there is little chance of having a cache hit.\n",
        "> - You'll need a lot of memory.\n",
        "> - You need an exact match to get a cache hit.\n",
        "> - Doesn't work with distributed systems\n",
        "> - Responses won't be dynamic, as you'll always get the same response for the same prompt.\n",
        ">\n",
        "> Useful when:\n",
        "> - Prototyping\n",
        "> - You have have a slow LLM, agent or process.\n",
        "> - You have a tight budget\n",
        "> \n",
        "> Least useful when:\n",
        "> - You have dynamic data\n",
        "> - You very little traffic\n",
        "> - You have limited memory\n",
        "> - You have a distributed system\n",
        "> - You have unlimited money"
      ]
    },
    {
      "cell_type": "markdown",
      "metadata": {
        "id": "3iCMjVYKNEeV"
      },
      "source": [
        "##### 🏗️ Activity #2:\n",
        "\n",
        "Create a simple experiment that tests the cache-backed embeddings."
      ]
    },
    {
      "cell_type": "code",
      "execution_count": 28,
      "metadata": {
        "id": "QT5GfmsHNFqP"
      },
      "outputs": [
        {
          "name": "stderr",
          "output_type": "stream",
          "text": [
            "Note: Environment variable`HF_TOKEN` is set and is the current active token independently from the token you've just configured.\n",
            "/Users/thomasyuill/src/github.com/thomfoolery/AIE5/16_LLMOps/.venv/lib/python3.9/site-packages/huggingface_hub/utils/_deprecation.py:131: FutureWarning: 'post' (from 'huggingface_hub.inference._client') is deprecated and will be removed from version '0.31.0'. Making direct POST requests to the inference server is not supported anymore. Please use task methods instead (e.g. `InferenceClient.chat_completion`). If your use case is not supported, please open an issue in https://github.com/huggingface/huggingface_hub.\n",
            "  warnings.warn(warning_message, FutureWarning)\n"
          ]
        },
        {
          "name": "stdout",
          "output_type": "stream",
          "text": [
            "Uncached LLM\n",
            "Uncached response:  Deepseek R1 is a highly advanced, high-performance, and high-sensitivity underwater acoustic communication system. Its advantages over other systems include:\n",
            "    1. High data rate: Deepseek R1 can achieve data rates of up to 100 Mbps, which is significantly higher than other underwater acoustic communication systems.\n",
            "    2. Long range: Deepseek R1 has a range of up to 10 km, making it suitable for applications that require long-range communication.\n",
            "    3. High sensitivity: Deepseek R1 has a high sensitivity of -140 dBm, allowing it to detect weak signals and maintain reliable communication in challenging underwater\n",
            "Elapsed time: 7.76 seconds\n",
            "Cached LLM\n",
            "Cached response:  Deepseek R1 is a highly advanced, high-performance, and high-sensitivity underwater acoustic communication system. Its advantages over other systems include:\n",
            "    1. High data rate: Deepseek R1 can achieve data rates of up to 100 Mbps, which is significantly higher than other underwater acoustic communication systems.\n",
            "    2. Long range: Deepseek R1 has a range of up to 10 km, making it suitable for applications that require long-range communication.\n",
            "    3. High sensitivity: Deepseek R1 has a high sensitivity of -140 dBm, allowing it to detect weak signals and maintain reliable communication in challenging underwater\n",
            "Elapsed time: 0.00 seconds\n",
            "Difference of 7.76 seconds\n",
            "Speedup of 99.99%\n"
          ]
        }
      ],
      "source": [
        "import time\n",
        "\n",
        "query = \"What is Deepseek R1's advantage over other systems?\"\n",
        "\n",
        "YOUR_LLM_ENDPOINT_URL = \"https://qs9jxmyvdm7eimw7.us-east-1.aws.endpoints.huggingface.cloud\"\n",
        "\n",
        "hf_llm = HuggingFaceEndpoint(\n",
        "    endpoint_url=f\"{YOUR_LLM_ENDPOINT_URL}\",\n",
        "    task=\"text-generation\",\n",
        "    max_new_tokens=128,\n",
        "    top_k=10,\n",
        "    top_p=0.95,\n",
        "    typical_p=0.95,\n",
        "    temperature=0.01,\n",
        "    repetition_penalty=1.03,\n",
        ")\n",
        "set_llm_cache(InMemoryCache())\n",
        "\n",
        "print('Uncached LLM')\n",
        "start_time = time.time()\n",
        "response = hf_llm.invoke(query)\n",
        "end_time = time.time()\n",
        "print(f\"Uncached response: {response}\")\n",
        "uncached_time = end_time - start_time\n",
        "print(f\"Elapsed time: {uncached_time:.2f} seconds\")\n",
        "\n",
        "print('Cached LLM')\n",
        "start_time = time.time()\n",
        "response = hf_llm.invoke(query)\n",
        "end_time = time.time()\n",
        "print(f\"Cached response: {response}\")\n",
        "cached_time = end_time - start_time\n",
        "print(f\"Elapsed time: {cached_time:.2f} seconds\")\n",
        "\n",
        "difference = uncached_time - cached_time\n",
        "improvement = difference / uncached_time\n",
        "print(f\"Difference of {difference:.2f} seconds\")\n",
        "print(f\"Speedup of {(improvement * 100):.2f}%\")"
      ]
    },
    {
      "cell_type": "markdown",
      "metadata": {
        "id": "zyPnNWb9NH7W"
      },
      "source": [
        "## Task 3: RAG LCEL Chain\n",
        "\n",
        "We'll also set-up our typical RAG chain using LCEL.\n",
        "\n",
        "However, this time: We'll specifically call out that the `context` and `question` halves of the first \"link\" in the chain are executed *in parallel* by default!\n",
        "\n",
        "Thanks, LCEL!"
      ]
    },
    {
      "cell_type": "code",
      "execution_count": 29,
      "metadata": {
        "id": "3JNvSsx_CEtI"
      },
      "outputs": [],
      "source": [
        "from operator import itemgetter\n",
        "from langchain_core.runnables.passthrough import RunnablePassthrough\n",
        "\n",
        "retrieval_augmented_qa_chain = (\n",
        "        {\"context\": itemgetter(\"question\") | retriever, \"question\": itemgetter(\"question\")}\n",
        "        | RunnablePassthrough.assign(context=itemgetter(\"context\"))\n",
        "        | chat_prompt | hf_llm\n",
        "    )"
      ]
    },
    {
      "cell_type": "markdown",
      "metadata": {
        "id": "Sx--wVctNdGa"
      },
      "source": [
        "Let's test it out!"
      ]
    },
    {
      "cell_type": "code",
      "execution_count": 30,
      "metadata": {
        "colab": {
          "base_uri": "https://localhost:8080/"
        },
        "id": "43uQegbnDQKP",
        "outputId": "a9ff032b-4eb2-4f5f-f456-1fc6aa24aaec"
      },
      "outputs": [
        {
          "name": "stderr",
          "output_type": "stream",
          "text": [
            "/Users/thomasyuill/src/github.com/thomfoolery/AIE5/16_LLMOps/.venv/lib/python3.9/site-packages/huggingface_hub/utils/_deprecation.py:131: FutureWarning: 'post' (from 'huggingface_hub.inference._client') is deprecated and will be removed from version '0.31.0'. Making direct POST requests to the inference server is not supported anymore. Please use task methods instead (e.g. `InferenceClient.chat_completion`). If your use case is not supported, please open an issue in https://github.com/huggingface/huggingface_hub.\n",
            "  warnings.warn(warning_message, FutureWarning)\n",
            "/Users/thomasyuill/src/github.com/thomfoolery/AIE5/16_LLMOps/.venv/lib/python3.9/site-packages/huggingface_hub/utils/_deprecation.py:131: FutureWarning: 'post' (from 'huggingface_hub.inference._client') is deprecated and will be removed from version '0.31.0'. Making direct POST requests to the inference server is not supported anymore. Please use task methods instead (e.g. `InferenceClient.chat_completion`). If your use case is not supported, please open an issue in https://github.com/huggingface/huggingface_hub.\n",
            "  warnings.warn(warning_message, FutureWarning)\n"
          ]
        },
        {
          "data": {
            "text/plain": [
              "'What is the name of the person who contributed to the document?\\nAnswer:\\nThe names of the people who contributed to the document are listed in the \"Contributors\" section. Some of the contributors include Aixin Liu, Bing Xue, Bingxuan Wang, Bochao Wu, Bei Feng, Chengda Lu, Chenggang Zhao, Chengqi Deng, Chong Ruan, Damai Dai, Deli Chen, Dongjie Ji, Erhang Li, Fangyun Lin, Fucong Dai, Fuli Luo, Guangbo Hao, Guanting Chen, Guowei Li, H. Zhang, Hanwei Xu'"
            ]
          },
          "execution_count": 30,
          "metadata": {},
          "output_type": "execute_result"
        }
      ],
      "source": [
        "retrieval_augmented_qa_chain.invoke({\"question\" : \"Write 50 things about this document!\"})"
      ]
    },
    {
      "cell_type": "code",
      "execution_count": 31,
      "metadata": {},
      "outputs": [
        {
          "name": "stderr",
          "output_type": "stream",
          "text": [
            "/Users/thomasyuill/src/github.com/thomfoolery/AIE5/16_LLMOps/.venv/lib/python3.9/site-packages/huggingface_hub/utils/_deprecation.py:131: FutureWarning: 'post' (from 'huggingface_hub.inference._client') is deprecated and will be removed from version '0.31.0'. Making direct POST requests to the inference server is not supported anymore. Please use task methods instead (e.g. `InferenceClient.chat_completion`). If your use case is not supported, please open an issue in https://github.com/huggingface/huggingface_hub.\n",
            "  warnings.warn(warning_message, FutureWarning)\n"
          ]
        },
        {
          "data": {
            "text/plain": [
              "'What is the name of the person who contributed to the document?\\nAnswer:\\nThe names of the people who contributed to the document are listed in the \"Contributors\" section. Some of the contributors include Aixin Liu, Bing Xue, Bingxuan Wang, Bochao Wu, Bei Feng, Chengda Lu, Chenggang Zhao, Chengqi Deng, Chong Ruan, Damai Dai, Deli Chen, Dongjie Ji, Erhang Li, Fangyun Lin, Fucong Dai, Fuli Luo, Guangbo Hao, Guanting Chen, Guowei Li, H. Zhang, Hanwei Xu'"
            ]
          },
          "execution_count": 31,
          "metadata": {},
          "output_type": "execute_result"
        }
      ],
      "source": [
        "retrieval_augmented_qa_chain.invoke({\"question\" : \"Write 50 things about this document!\"})"
      ]
    },
    {
      "cell_type": "code",
      "execution_count": 32,
      "metadata": {},
      "outputs": [
        {
          "name": "stderr",
          "output_type": "stream",
          "text": [
            "/Users/thomasyuill/src/github.com/thomfoolery/AIE5/16_LLMOps/.venv/lib/python3.9/site-packages/huggingface_hub/utils/_deprecation.py:131: FutureWarning: 'post' (from 'huggingface_hub.inference._client') is deprecated and will be removed from version '0.31.0'. Making direct POST requests to the inference server is not supported anymore. Please use task methods instead (e.g. `InferenceClient.chat_completion`). If your use case is not supported, please open an issue in https://github.com/huggingface/huggingface_hub.\n",
            "  warnings.warn(warning_message, FutureWarning)\n"
          ]
        },
        {
          "data": {
            "text/plain": [
              "'What is the name of the person who contributed to the document?\\nAnswer:\\nThe names of the people who contributed to the document are listed in the \"Contributors\" section. Some of the contributors include Aixin Liu, Bing Xue, Bingxuan Wang, Bochao Wu, Bei Feng, Chengda Lu, Chenggang Zhao, Chengqi Deng, Chong Ruan, Damai Dai, Deli Chen, Dongjie Ji, Erhang Li, Fangyun Lin, Fucong Dai, Fuli Luo, Guangbo Hao, Guanting Chen, Guowei Li, H. Zhang, Hanwei Xu'"
            ]
          },
          "execution_count": 32,
          "metadata": {},
          "output_type": "execute_result"
        }
      ],
      "source": [
        "retrieval_augmented_qa_chain.invoke({\"question\" : \"Write 50 things about this document!\"})"
      ]
    },
    {
      "cell_type": "markdown",
      "metadata": {
        "id": "0tYAvHrJNecy"
      },
      "source": [
        "##### 🏗️ Activity #3:\n",
        "\n",
        "Show, through LangSmith, the different between a trace that is leveraging cache-backed embeddings and LLM calls - and one that isn't.\n",
        "\n",
        "Post screenshots in the notebook!"
      ]
    },
    {
      "cell_type": "markdown",
      "metadata": {},
      "source": [
        "![LangSmith Dashboard](./Screenshot-LangSmith-Dashboard.png)"
      ]
    }
  ],
  "metadata": {
    "colab": {
      "provenance": []
    },
    "kernelspec": {
      "display_name": ".venv",
      "language": "python",
      "name": "python3"
    },
    "language_info": {
      "codemirror_mode": {
        "name": "ipython",
        "version": 3
      },
      "file_extension": ".py",
      "mimetype": "text/x-python",
      "name": "python",
      "nbconvert_exporter": "python",
      "pygments_lexer": "ipython3",
      "version": "3.9.6"
    }
  },
  "nbformat": 4,
  "nbformat_minor": 0
}
