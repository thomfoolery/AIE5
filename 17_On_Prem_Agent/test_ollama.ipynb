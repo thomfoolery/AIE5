{
 "cells": [
  {
   "cell_type": "code",
   "execution_count": 3,
   "metadata": {},
   "outputs": [],
   "source": [
    "from langchain_ollama import ChatOllama\n",
    "\n",
    "llm = ChatOllama(model=\"deepseek-r1:8b\")"
   ]
  },
  {
   "cell_type": "code",
   "execution_count": 4,
   "metadata": {},
   "outputs": [
    {
     "name": "stdout",
     "output_type": "stream",
     "text": [
      "<think>\n",
      "I need to find the cube root of 27. \n",
      "\n",
      "First, I recall that a cube root of a number is a value that can be multiplied by itself three times to obtain that number.\n",
      "\n",
      "Since 3 × 3 × 3 equals 27, the cube root of 27 must be 3.\n",
      "</think>\n",
      "\n",
      "To find the **3rd root** of **27**, follow these steps:\n",
      "\n",
      "1. **Understand What a Cube Root Is:**\n",
      "   \n",
      "   The *cube root* of a number \\( x \\) is a number \\( y \\) such that:\n",
      "   \\[\n",
      "   y^3 = x\n",
      "   \\]\n",
      "   In this case, we want to find \\( y \\) where:\n",
      "   \\[\n",
      "   y^3 = 27\n",
      "   \\]\n",
      "\n",
      "2. **Find the Number That Cubes to 27:**\n",
      "   \n",
      "   Let's test some numbers:\n",
      "   - \\( 1^3 = 1 \\)\n",
      "   - \\( 2^3 = 8 \\)\n",
      "   - \\( 3^3 = 27 \\)\n",
      "\n",
      "   Since \\( 3^3 = 27 \\), the cube root of 27 is **3**.\n",
      "\n",
      "3. **Final Answer:**\n",
      "   \n",
      "   \\[\n",
      "   \\boxed{3}\n",
      "   \\]"
     ]
    }
   ],
   "source": [
    "for chunk in llm.stream(\"What is the 3rd root of 27?\"):\n",
    "    print(chunk.content, end=\"\")"
   ]
  }
 ],
 "metadata": {
  "kernelspec": {
   "display_name": ".venv",
   "language": "python",
   "name": "python3"
  },
  "language_info": {
   "codemirror_mode": {
    "name": "ipython",
    "version": 3
   },
   "file_extension": ".py",
   "mimetype": "text/x-python",
   "name": "python",
   "nbconvert_exporter": "python",
   "pygments_lexer": "ipython3",
   "version": "3.13.2"
  }
 },
 "nbformat": 4,
 "nbformat_minor": 2
}
